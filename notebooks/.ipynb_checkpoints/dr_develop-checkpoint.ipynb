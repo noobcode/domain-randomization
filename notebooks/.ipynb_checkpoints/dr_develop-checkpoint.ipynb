{
 "cells": [
  {
   "cell_type": "markdown",
   "metadata": {},
   "source": [
    "# Domain Randomization"
   ]
  },
  {
   "cell_type": "code",
   "execution_count": 1,
   "metadata": {},
   "outputs": [],
   "source": [
    "import sys\n",
    "sys.path.append('../domain_randomization') # TODO: fix this\n",
    "\n",
    "from domain_randomization import DomainRandomizer"
   ]
  },
  {
   "cell_type": "code",
   "execution_count": 22,
   "metadata": {},
   "outputs": [],
   "source": [
    "# Create domain randomizer(s)\n",
    "dr = DomainRandomizer()"
   ]
  },
  {
   "cell_type": "markdown",
   "metadata": {},
   "source": [
    "## Add parameters to randomize using .add()\n",
    "Below we would like to randomize 4 simulation parameters `module_length`, `young_modulus`, the gravitational acceleration `gravity_vector`, and the simulation time-step `dt`. Each call to `add()` requires:\n",
    "\n",
    "- an arbitrary parameter name (e.g., 'module_length')\n",
    "- a distribution type (e.g., `uniform`) and \n",
    "- the associated distribution parameters (e.g., the lower bound `low` and upper bound `high`). \n",
    "\n",
    "The distributions follow the interface of `numpy` (e.g., `numpy.random.uniform`).\n",
    "\n",
    "We can arbitrary randomize parameters having any unit measure (e.g., m, m/s$^2$) and dimension (e.g., scalar, vector)."
   ]
  },
  {
   "cell_type": "code",
   "execution_count": 23,
   "metadata": {},
   "outputs": [],
   "source": [
    "dr.add(parameter_name='module_length', distribution='uniform', distribution_args=dict(low=0.19, high=0.22))\n",
    "dr.add(parameter_name='young_modulus', distribution='normal', distribution_args=dict(loc=1.6e6, scale=2e2))\n",
    "dr.add(parameter_name='gravity_vector', distribution='normal', distribution_args=dict(loc=[0, 0, -9.81], scale=0.1))\n",
    "dr.add(parameter_name='dt', distribution='choice', distribution_args=dict(a=[2e-4, 1.5e-4], p=[0.9, 0.1]))"
   ]
  },
  {
   "cell_type": "code",
   "execution_count": 24,
   "metadata": {},
   "outputs": [
    {
     "name": "stdout",
     "output_type": "stream",
     "text": [
      "Help on method add in module domain_randomization:\n",
      "\n",
      "add(parameter_name, distribution, distribution_args) method of domain_randomization.DomainRandomizer instance\n",
      "    Adds a parameter to randomize.\n",
      "    @ parameter_name: str, name of the parameter\n",
      "    @ distribution: ['uniform', 'normal', 'choice'], distribution of the parameter\n",
      "    @ distribution_args: dict([arg=value, ...]), parameters of the chosen distribution (see numpy.random)\n",
      "\n"
     ]
    }
   ],
   "source": [
    "help(dr.add)"
   ]
  },
  {
   "cell_type": "markdown",
   "metadata": {},
   "source": [
    "## Print an overview of the selected parameters and distributions with .summary()"
   ]
  },
  {
   "cell_type": "code",
   "execution_count": 25,
   "metadata": {},
   "outputs": [
    {
     "name": "stdout",
     "output_type": "stream",
     "text": [
      "╒════════════════╤════════════════╤══════════════════════════════════╕\n",
      "│ Parameter      │ Distribution   │ Arguments                        │\n",
      "╞════════════════╪════════════════╪══════════════════════════════════╡\n",
      "│ module_length  │ uniform        │ low=0.19 high=0.22               │\n",
      "├────────────────┼────────────────┼──────────────────────────────────┤\n",
      "│ young_modulus  │ normal         │ loc=1600000.0 scale=200.0        │\n",
      "├────────────────┼────────────────┼──────────────────────────────────┤\n",
      "│ gravity_vector │ normal         │ loc=[0, 0, -9.81] scale=0.1      │\n",
      "├────────────────┼────────────────┼──────────────────────────────────┤\n",
      "│ dt             │ choice         │ a=[0.0002, 0.00015] p=[0.9, 0.1] │\n",
      "╘════════════════╧════════════════╧══════════════════════════════════╛\n"
     ]
    }
   ],
   "source": [
    "dr.summary()"
   ]
  },
  {
   "cell_type": "markdown",
   "metadata": {},
   "source": [
    "## Sample new parameters with .sample()\n",
    "Everytime an episode terminates and you want to reset the environment, you can sample new parameters with `sample`, which will return a dictionary."
   ]
  },
  {
   "cell_type": "code",
   "execution_count": 29,
   "metadata": {},
   "outputs": [
    {
     "name": "stdout",
     "output_type": "stream",
     "text": [
      "1 {'module_length': 0.19746259430559873, 'young_modulus': 1600368.7383060055, 'gravity_vector': array([ 0.15255072, -0.14455356, -9.77228394]), 'dt': 0.00015}\n",
      "2 {'module_length': 0.20341376135852882, 'young_modulus': 1600094.4297995034, 'gravity_vector': array([ 0.08199173,  0.09075196, -9.86858229]), 'dt': 0.0002}\n",
      "3 {'module_length': 0.21643309591333484, 'young_modulus': 1600194.7197424562, 'gravity_vector': array([ 0.02072828,  0.1099642 , -9.7160103 ]), 'dt': 0.0002}\n",
      "4 {'module_length': 0.21868250904169673, 'young_modulus': 1599801.967971498, 'gravity_vector': array([ 0.18723941, -0.02410736, -9.80466551]), 'dt': 0.0002}\n",
      "5 {'module_length': 0.20980520612478054, 'young_modulus': 1600167.543953029, 'gravity_vector': array([-0.14901114, -0.1070215 , -9.83091286]), 'dt': 0.0002}\n"
     ]
    }
   ],
   "source": [
    "n_episodes = 5\n",
    "\n",
    "for i in range(n_episodes):\n",
    "    sampled_parameters = dr.sample()\n",
    "    print(i + 1, sampled_parameters)"
   ]
  },
  {
   "cell_type": "code",
   "execution_count": null,
   "metadata": {},
   "outputs": [],
   "source": []
  },
  {
   "cell_type": "code",
   "execution_count": null,
   "metadata": {},
   "outputs": [],
   "source": []
  }
 ],
 "metadata": {
  "kernelspec": {
   "display_name": "elastica_2024",
   "language": "python",
   "name": "elastica_2024"
  },
  "language_info": {
   "codemirror_mode": {
    "name": "ipython",
    "version": 3
   },
   "file_extension": ".py",
   "mimetype": "text/x-python",
   "name": "python",
   "nbconvert_exporter": "python",
   "pygments_lexer": "ipython3",
   "version": "3.10.13"
  }
 },
 "nbformat": 4,
 "nbformat_minor": 2
}
